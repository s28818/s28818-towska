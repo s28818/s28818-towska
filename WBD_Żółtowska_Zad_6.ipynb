{
  "nbformat": 4,
  "nbformat_minor": 0,
  "metadata": {
    "colab": {
      "provenance": []
    },
    "kernelspec": {
      "name": "python3",
      "display_name": "Python 3"
    },
    "language_info": {
      "name": "python"
    }
  },
  "cells": [
    {
      "cell_type": "code",
      "execution_count": 31,
      "metadata": {
        "colab": {
          "base_uri": "https://localhost:8080/"
        },
        "id": "ODoGsiyMmsOY",
        "outputId": "bcc8f131-c426-48ab-e830-f8285e243634"
      },
      "outputs": [
        {
          "output_type": "stream",
          "name": "stdout",
          "text": [
            "Drive already mounted at /content/drive; to attempt to forcibly remount, call drive.mount(\"/content/drive\", force_remount=True).\n"
          ]
        }
      ],
      "source": [
        "from google.colab import drive\n",
        "drive.mount('/content/drive')"
      ]
    },
    {
      "cell_type": "code",
      "source": [
        "!apt-get install openjdk-11-jdk-headless -qq > /dev/null\n",
        "!wget -q https://dlcdn.apache.org/spark/spark-3.3.1/spark-3.3.1-bin-hadoop3.tgz"
      ],
      "metadata": {
        "id": "ZLHJBDEInMVv"
      },
      "execution_count": 32,
      "outputs": []
    },
    {
      "cell_type": "code",
      "source": [
        "!tar xf spark-3.3.1-bin-hadoop3.tgz"
      ],
      "metadata": {
        "id": "Gr6BO81KnYPZ"
      },
      "execution_count": 33,
      "outputs": []
    },
    {
      "cell_type": "code",
      "source": [
        "!pip install -q findspark\n",
        "!pip install pyspark -q"
      ],
      "metadata": {
        "id": "M17jekjUnbrG"
      },
      "execution_count": 34,
      "outputs": []
    },
    {
      "cell_type": "code",
      "source": [
        "import findspark\n",
        " \n",
        "findspark.init()\n",
        "findspark.find()# sprawdzenie gdzie znajduje się instalka"
      ],
      "metadata": {
        "colab": {
          "base_uri": "https://localhost:8080/",
          "height": 35
        },
        "id": "irnRT_OnnqxO",
        "outputId": "20be317a-8652-4c91-de38-a6c54818d591"
      },
      "execution_count": 35,
      "outputs": [
        {
          "output_type": "execute_result",
          "data": {
            "text/plain": [
              "'/usr/local/lib/python3.8/dist-packages/pyspark'"
            ],
            "application/vnd.google.colaboratory.intrinsic+json": {
              "type": "string"
            }
          },
          "metadata": {},
          "execution_count": 35
        }
      ]
    },
    {
      "cell_type": "code",
      "source": [
        "#Zad 6.1\n",
        "import pyspark\n",
        "from pyspark import SparkConf, SparkContext\n",
        "import collections\n",
        "\n",
        "conf= SparkConf().setMaster(\"local\").setAppName(\"CustomerCount\")\n",
        "#sc = SparkContext(conf=conf)\n",
        "\n",
        "def parseLine(line):\n",
        "    fields = line.split(',')\n",
        "    customer_id = int(fields[0])\n",
        "    count = float(fields[2])\n",
        "    return (customer_id, count)\n",
        "\n",
        "lines = sc.textFile(\"/content/drive/MyDrive/customer-orders.csv\")\n",
        "rdd = lines.map(parseLine)\n",
        "idByValue = rdd.mapValues(lambda x: (x, 1)).reduceByKey(lambda x, y: (x[0] + y[0], x[1] + y[1]))\n",
        "idByValue = idByValue.mapValues(lambda x: x[0])\n",
        "results = idByValue.collect()\n",
        "sortedResults = collections.OrderedDict(sorted(results))\n",
        "for result in results:\n",
        "    print(result)"
      ],
      "metadata": {
        "colab": {
          "base_uri": "https://localhost:8080/"
        },
        "id": "yWzrWDvqnuyI",
        "outputId": "c5a639ec-5b72-4531-ee90-ecc4379c6416"
      },
      "execution_count": 36,
      "outputs": [
        {
          "output_type": "stream",
          "name": "stdout",
          "text": [
            "(44, 4756.8899999999985)\n",
            "(35, 5155.419999999999)\n",
            "(2, 5994.59)\n",
            "(47, 4316.299999999999)\n",
            "(29, 5032.529999999999)\n",
            "(91, 4642.259999999999)\n",
            "(70, 5368.249999999999)\n",
            "(85, 5503.43)\n",
            "(53, 4945.299999999999)\n",
            "(14, 4735.030000000001)\n",
            "(51, 4975.22)\n",
            "(42, 5696.840000000003)\n",
            "(79, 3790.570000000001)\n",
            "(50, 4517.27)\n",
            "(20, 4836.859999999999)\n",
            "(15, 5413.510000000001)\n",
            "(5, 4561.069999999999)\n",
            "(48, 4384.33)\n",
            "(31, 4765.05)\n",
            "(4, 4815.050000000002)\n",
            "(36, 4278.049999999997)\n",
            "(57, 4628.4)\n",
            "(12, 4664.589999999998)\n",
            "(22, 5019.449999999999)\n",
            "(54, 6065.389999999999)\n",
            "(0, 5524.949999999998)\n",
            "(88, 4830.549999999999)\n",
            "(86, 4908.81)\n",
            "(13, 4367.62)\n",
            "(40, 5186.429999999999)\n",
            "(98, 4297.260000000001)\n",
            "(55, 5298.090000000002)\n",
            "(95, 4876.840000000002)\n",
            "(61, 5497.479999999998)\n",
            "(27, 4915.889999999999)\n",
            "(78, 4524.509999999999)\n",
            "(83, 4635.799999999997)\n",
            "(6, 5397.879999999998)\n",
            "(26, 5250.4)\n",
            "(75, 4178.500000000001)\n",
            "(25, 5057.610000000001)\n",
            "(71, 5995.660000000003)\n",
            "(39, 6193.109999999999)\n",
            "(60, 5040.709999999999)\n",
            "(97, 5977.189999999995)\n",
            "(7, 4755.070000000001)\n",
            "(21, 4707.41)\n",
            "(69, 5123.010000000001)\n",
            "(37, 4735.200000000002)\n",
            "(1, 4958.600000000001)\n",
            "(64, 5288.689999999996)\n",
            "(82, 4812.489999999998)\n",
            "(72, 5337.44)\n",
            "(99, 4172.289999999998)\n",
            "(34, 5330.8)\n",
            "(73, 6206.199999999999)\n",
            "(49, 4394.599999999999)\n",
            "(8, 5517.240000000001)\n",
            "(46, 5963.109999999999)\n",
            "(23, 4042.6499999999987)\n",
            "(19, 5059.4299999999985)\n",
            "(65, 5140.3499999999985)\n",
            "(80, 4727.860000000001)\n",
            "(16, 4979.06)\n",
            "(9, 5322.649999999999)\n",
            "(18, 4921.27)\n",
            "(59, 5642.89)\n",
            "(74, 4647.129999999999)\n",
            "(30, 4990.72)\n",
            "(56, 4701.019999999999)\n",
            "(90, 5290.409999999998)\n",
            "(68, 6375.449999999997)\n",
            "(11, 5152.290000000002)\n",
            "(10, 4819.700000000001)\n",
            "(41, 5637.62)\n",
            "(58, 5437.7300000000005)\n",
            "(87, 5206.4)\n",
            "(17, 5032.679999999999)\n",
            "(33, 5254.659999999998)\n",
            "(62, 5253.3200000000015)\n",
            "(92, 5379.280000000002)\n",
            "(76, 4904.209999999999)\n",
            "(66, 4681.919999999999)\n",
            "(43, 5368.83)\n",
            "(52, 5245.059999999999)\n",
            "(77, 4327.729999999999)\n",
            "(81, 5112.709999999999)\n",
            "(84, 4652.939999999999)\n",
            "(3, 4659.63)\n",
            "(93, 5265.750000000001)\n",
            "(89, 4851.479999999999)\n",
            "(45, 3309.38)\n",
            "(24, 5259.920000000003)\n",
            "(96, 3924.230000000001)\n",
            "(67, 4505.79)\n",
            "(63, 5415.150000000001)\n",
            "(94, 4475.569999999999)\n",
            "(32, 5496.050000000004)\n",
            "(38, 4898.460000000002)\n",
            "(28, 5000.709999999998)\n"
          ]
        }
      ]
    },
    {
      "cell_type": "code",
      "source": [
        "#Zad 6.2\n",
        "import pyspark\n",
        "from pyspark import SparkConf, SparkContext\n",
        "import collections\n",
        "\n",
        "conf= SparkConf().setMaster(\"local\").setAppName(\"CustomerCount\")\n",
        "#sc = SparkContext(conf=conf)\n",
        "\n",
        "def parseLine(line):\n",
        "    fields = line.split(',')\n",
        "    customer_id = int(fields[0])\n",
        "    count = float(fields[2])\n",
        "    return (customer_id, count)\n",
        "\n",
        "lines = sc.textFile(\"/content/drive/MyDrive/customer-orders.csv\")\n",
        "rdd = lines.map(parseLine)\n",
        "totalsById = rdd.mapValues(lambda x: (x, 1)).reduceByKey(lambda x, y: (x[0] + y[0], x[1] + y[1]))\n",
        "ValueById = totalsById.mapValues(lambda x: x[0])\n",
        "valueCountsSorted = ValueById.map(lambda x: (x[1], x[0])).sortByKey()\n",
        "results = valueCountsSorted.collect()\n",
        "for result in results:\n",
        "    print(result)"
      ],
      "metadata": {
        "colab": {
          "base_uri": "https://localhost:8080/"
        },
        "id": "5mjn98iM3ovi",
        "outputId": "f53ec41b-fa4e-4982-ac57-57c97a5f8717"
      },
      "execution_count": 37,
      "outputs": [
        {
          "output_type": "stream",
          "name": "stdout",
          "text": [
            "(3309.38, 45)\n",
            "(3790.570000000001, 79)\n",
            "(3924.230000000001, 96)\n",
            "(4042.6499999999987, 23)\n",
            "(4172.289999999998, 99)\n",
            "(4178.500000000001, 75)\n",
            "(4278.049999999997, 36)\n",
            "(4297.260000000001, 98)\n",
            "(4316.299999999999, 47)\n",
            "(4327.729999999999, 77)\n",
            "(4367.62, 13)\n",
            "(4384.33, 48)\n",
            "(4394.599999999999, 49)\n",
            "(4475.569999999999, 94)\n",
            "(4505.79, 67)\n",
            "(4517.27, 50)\n",
            "(4524.509999999999, 78)\n",
            "(4561.069999999999, 5)\n",
            "(4628.4, 57)\n",
            "(4635.799999999997, 83)\n",
            "(4642.259999999999, 91)\n",
            "(4647.129999999999, 74)\n",
            "(4652.939999999999, 84)\n",
            "(4659.63, 3)\n",
            "(4664.589999999998, 12)\n",
            "(4681.919999999999, 66)\n",
            "(4701.019999999999, 56)\n",
            "(4707.41, 21)\n",
            "(4727.860000000001, 80)\n",
            "(4735.030000000001, 14)\n",
            "(4735.200000000002, 37)\n",
            "(4755.070000000001, 7)\n",
            "(4756.8899999999985, 44)\n",
            "(4765.05, 31)\n",
            "(4812.489999999998, 82)\n",
            "(4815.050000000002, 4)\n",
            "(4819.700000000001, 10)\n",
            "(4830.549999999999, 88)\n",
            "(4836.859999999999, 20)\n",
            "(4851.479999999999, 89)\n",
            "(4876.840000000002, 95)\n",
            "(4898.460000000002, 38)\n",
            "(4904.209999999999, 76)\n",
            "(4908.81, 86)\n",
            "(4915.889999999999, 27)\n",
            "(4921.27, 18)\n",
            "(4945.299999999999, 53)\n",
            "(4958.600000000001, 1)\n",
            "(4975.22, 51)\n",
            "(4979.06, 16)\n",
            "(4990.72, 30)\n",
            "(5000.709999999998, 28)\n",
            "(5019.449999999999, 22)\n",
            "(5032.529999999999, 29)\n",
            "(5032.679999999999, 17)\n",
            "(5040.709999999999, 60)\n",
            "(5057.610000000001, 25)\n",
            "(5059.4299999999985, 19)\n",
            "(5112.709999999999, 81)\n",
            "(5123.010000000001, 69)\n",
            "(5140.3499999999985, 65)\n",
            "(5152.290000000002, 11)\n",
            "(5155.419999999999, 35)\n",
            "(5186.429999999999, 40)\n",
            "(5206.4, 87)\n",
            "(5245.059999999999, 52)\n",
            "(5250.4, 26)\n",
            "(5253.3200000000015, 62)\n",
            "(5254.659999999998, 33)\n",
            "(5259.920000000003, 24)\n",
            "(5265.750000000001, 93)\n",
            "(5288.689999999996, 64)\n",
            "(5290.409999999998, 90)\n",
            "(5298.090000000002, 55)\n",
            "(5322.649999999999, 9)\n",
            "(5330.8, 34)\n",
            "(5337.44, 72)\n",
            "(5368.249999999999, 70)\n",
            "(5368.83, 43)\n",
            "(5379.280000000002, 92)\n",
            "(5397.879999999998, 6)\n",
            "(5413.510000000001, 15)\n",
            "(5415.150000000001, 63)\n",
            "(5437.7300000000005, 58)\n",
            "(5496.050000000004, 32)\n",
            "(5497.479999999998, 61)\n",
            "(5503.43, 85)\n",
            "(5517.240000000001, 8)\n",
            "(5524.949999999998, 0)\n",
            "(5637.62, 41)\n",
            "(5642.89, 59)\n",
            "(5696.840000000003, 42)\n",
            "(5963.109999999999, 46)\n",
            "(5977.189999999995, 97)\n",
            "(5994.59, 2)\n",
            "(5995.660000000003, 71)\n",
            "(6065.389999999999, 54)\n",
            "(6193.109999999999, 39)\n",
            "(6206.199999999999, 73)\n",
            "(6375.449999999997, 68)\n"
          ]
        }
      ]
    }
  ]
}