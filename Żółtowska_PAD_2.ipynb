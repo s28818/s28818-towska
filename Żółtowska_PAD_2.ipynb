{
  "nbformat": 4,
  "nbformat_minor": 0,
  "metadata": {
    "colab": {
      "provenance": [],
      "collapsed_sections": []
    },
    "kernelspec": {
      "name": "python3",
      "display_name": "Python 3"
    },
    "language_info": {
      "name": "python"
    }
  },
  "cells": [
    {
      "cell_type": "code",
      "source": [
        "from google.colab import drive\n",
        "drive.mount('/content/drive')"
      ],
      "metadata": {
        "colab": {
          "base_uri": "https://localhost:8080/"
        },
        "id": "cK43-K4LMicT",
        "outputId": "a33ab312-158d-4454-d397-b154cb523f9f"
      },
      "execution_count": null,
      "outputs": [
        {
          "output_type": "stream",
          "name": "stdout",
          "text": [
            "Drive already mounted at /content/drive; to attempt to forcibly remount, call drive.mount(\"/content/drive\", force_remount=True).\n"
          ]
        }
      ]
    },
    {
      "cell_type": "code",
      "source": [
        "#Zadanie 1\n",
        "import pandas as pd\n",
        "import numpy as np\n"
      ],
      "metadata": {
        "id": "KXhT60CLMINT"
      },
      "execution_count": null,
      "outputs": []
    },
    {
      "cell_type": "code",
      "source": [
        "import csv\n",
        "data = pd.read_csv('/content/drive/MyDrive/PAD Zadania 2/president_heights.csv', sep=\";\")\n",
        "heights = np.array(data[\"height(cm)\"])\n",
        "print(heights)\n"
      ],
      "metadata": {
        "colab": {
          "base_uri": "https://localhost:8080/"
        },
        "id": "z1yhTIkpMTG_",
        "outputId": "18410fc6-1929-49da-c3f9-1d5d9f36abed"
      },
      "execution_count": null,
      "outputs": [
        {
          "output_type": "stream",
          "name": "stdout",
          "text": [
            "[189 170 189 163 183 171 185 168 173 183 173 173 175 178 183 193 178 173\n",
            " 174 183 183 168 170 178 182 180 183 178 182 188 175 179 183 193 182 183\n",
            " 177 185 188 188 182 185]\n"
          ]
        }
      ]
    },
    {
      "cell_type": "code",
      "source": [
        "print('Mean height:', np.mean(heights))\n",
        "\n",
        "print('Standard deviation:', np.std(heights))\n",
        "\n",
        "print(\"Minimum height:    \", np.min(heights) ) \n",
        "\n",
        "print(\"Maximum height:    \", np.max(heights))\n",
        "\n",
        "print(\"25th percentile:   \", np.percentile(heights, 25))\n",
        "\n",
        "print(\"Median:            \", np.median(heights) ) \n",
        "\n",
        "print(\"75th percentile:   \", np.percentile(heights, 75)) "
      ],
      "metadata": {
        "colab": {
          "base_uri": "https://localhost:8080/"
        },
        "id": "JykCecHlUpaV",
        "outputId": "5700a647-2010-4a9e-a491-7e1758a71d37"
      },
      "execution_count": null,
      "outputs": [
        {
          "output_type": "stream",
          "name": "stdout",
          "text": [
            "Mean height: 179.73809523809524\n",
            "Standard deviation: 6.931843442745892\n",
            "Minimum height:     163\n",
            "Maximum height:     193\n",
            "25th percentile:    174.25\n",
            "Median:             182.0\n",
            "75th percentile:    183.0\n"
          ]
        }
      ]
    },
    {
      "cell_type": "code",
      "source": [
        "#Zadanie 2\n",
        "from numpy import genfromtxt\n",
        "\n",
        "x=np.genfromtxt('/content/drive/MyDrive/PAD Zadania 2/Zadanie_2.csv', delimiter=  ';')\n",
        "x"
      ],
      "metadata": {
        "colab": {
          "base_uri": "https://localhost:8080/"
        },
        "id": "bh7J9eFvQk6A",
        "outputId": "6c25815f-05d0-4c02-b2e4-092b7e83e04c"
      },
      "execution_count": null,
      "outputs": [
        {
          "output_type": "execute_result",
          "data": {
            "text/plain": [
              "array([[  1.,   2.,  15., -59.,   9.,   3.,  75.,   6.,   7.,   1.],\n",
              "       [  0.,   5.,   0.,   4.,   6.,  16.,  44.,   7.,   1.,   1.],\n",
              "       [  7.,  14.,   3., -10.,   9.,  15.,  73.,   8.,   2.,   9.],\n",
              "       [  1.,   5.,  15., -54.,   5.,  15.,  35.,   8.,   6.,   4.],\n",
              "       [  0.,   8.,   5., -18.,   7.,  16.,  91.,   6.,   7.,   9.],\n",
              "       [  7.,  18.,  23., -90.,   4.,   8.,  31.,   0.,   1.,   7.],\n",
              "       [  2.,   8.,  20., -72.,   4.,   1.,  91.,   9.,   4.,   4.],\n",
              "       [  4.,  12.,  18., -65.,   6.,   9.,  76.,   4.,   9.,   9.],\n",
              "       [  7.,  15.,  13., -52.,   5.,   7.,  54.,   2.,   7.,   0.],\n",
              "       [  2.,   9.,  15., -56.,   6.,   1.,  98.,   4.,   8.,   4.]])"
            ]
          },
          "metadata": {},
          "execution_count": 8
        }
      ]
    },
    {
      "cell_type": "code",
      "source": [
        "EIG = np.linalg.eig(x)\n",
        "EIG\n"
      ],
      "metadata": {
        "colab": {
          "base_uri": "https://localhost:8080/"
        },
        "id": "_Suwra36P7U-",
        "outputId": "8c21456e-66dc-4c76-920e-28c40001f43d"
      },
      "execution_count": null,
      "outputs": [
        {
          "output_type": "execute_result",
          "data": {
            "text/plain": [
              "(array([104.34960192 +0.j        , -23.35660516+18.84992811j,\n",
              "        -23.35660516-18.84992811j,  15.92989017 +0.j        ,\n",
              "         -4.99456452 +0.j        ,   0.35205717 +5.80125175j,\n",
              "          0.35205717 -5.80125175j,  -1.03383491 +0.j        ,\n",
              "          3.87900166 +1.42651533j,   3.87900166 -1.42651533j]),\n",
              " array([[-0.29000475+0.j        , -0.07545445+0.07743149j,\n",
              "         -0.07545445-0.07743149j, -0.03544485+0.j        ,\n",
              "          0.42681634+0.j        , -0.22172831-0.29869259j,\n",
              "         -0.22172831+0.29869259j,  0.41343726+0.j        ,\n",
              "         -0.28670255+0.21891569j, -0.28670255-0.21891569j],\n",
              "        [-0.24163153+0.j        ,  0.41229621+0.09197324j,\n",
              "          0.41229621-0.09197324j,  0.45873475+0.j        ,\n",
              "         -0.27056206+0.j        , -0.01331344+0.1422557j ,\n",
              "         -0.01331344-0.1422557j , -0.31591047+0.j        ,\n",
              "          0.41954481-0.10561864j,  0.41954481+0.10561864j],\n",
              "        [-0.41060573+0.j        ,  0.37509638-0.00960818j,\n",
              "          0.37509638+0.00960818j,  0.64067986+0.j        ,\n",
              "         -0.37967609+0.j        , -0.60525232+0.j        ,\n",
              "         -0.60525232-0.j        ,  0.6457768 +0.j        ,\n",
              "          0.63631555+0.j        ,  0.63631555-0.j        ],\n",
              "        [-0.18899971+0.j        , -0.05624951+0.174848j  ,\n",
              "         -0.05624951-0.174848j  ,  0.25174536+0.j        ,\n",
              "         -0.07625465+0.j        , -0.14870016-0.00795735j,\n",
              "         -0.14870016+0.00795735j,  0.15206852+0.j        ,\n",
              "          0.21373907+0.00228636j,  0.21373907-0.00228636j],\n",
              "        [-0.42862199+0.j        ,  0.47707538+0.14580554j,\n",
              "          0.47707538-0.14580554j,  0.39445834+0.j        ,\n",
              "         -0.69542141+0.j        ,  0.07336021-0.43070469j,\n",
              "          0.07336021+0.43070469j, -0.25948775+0.j        ,\n",
              "          0.20250102-0.00411374j,  0.20250102+0.00411374j],\n",
              "        [-0.14730562+0.j        , -0.57352911+0.j        ,\n",
              "         -0.57352911-0.j        ,  0.10071325+0.j        ,\n",
              "          0.30158403+0.j        , -0.04758838+0.12911829j,\n",
              "         -0.04758838-0.12911829j,  0.21274791+0.j        ,\n",
              "         -0.1503483 +0.03452906j, -0.1503483 -0.03452906j],\n",
              "        [-0.34660607+0.j        , -0.13987374+0.06837303j,\n",
              "         -0.13987374-0.06837303j, -0.04800705+0.j        ,\n",
              "          0.06798106+0.j        ,  0.00512204+0.04215641j,\n",
              "          0.00512204-0.04215641j,  0.05365357+0.j        ,\n",
              "         -0.0534517 +0.00550802j, -0.0534517 -0.00550802j],\n",
              "        [-0.34919853+0.j        , -0.08414467+0.07749664j,\n",
              "         -0.08414467-0.07749664j,  0.25925893+0.j        ,\n",
              "         -0.10039982+0.j        , -0.06761437-0.25584347j,\n",
              "         -0.06761437+0.25584347j, -0.38214447+0.j        ,\n",
              "          0.29485109-0.01300678j,  0.29485109+0.01300678j],\n",
              "        [-0.2440048 +0.j        , -0.13777908+0.00402196j,\n",
              "         -0.13777908-0.00402196j,  0.27709282+0.j        ,\n",
              "         -0.00524365+0.j        ,  0.21866893+0.04463336j,\n",
              "          0.21866893-0.04463336j, -0.12045798+0.j        ,\n",
              "          0.27558332+0.02285482j,  0.27558332-0.02285482j],\n",
              "        [-0.38231403+0.j        , -0.00476199+0.03456836j,\n",
              "         -0.00476199-0.03456836j,  0.04918165+0.j        ,\n",
              "          0.07322815+0.j        ,  0.1819345 -0.29687727j,\n",
              "          0.1819345 +0.29687727j, -0.11445044+0.j        ,\n",
              "          0.02830199+0.00579727j,  0.02830199-0.00579727j]]))"
            ]
          },
          "metadata": {},
          "execution_count": 115
        }
      ]
    },
    {
      "cell_type": "code",
      "source": [
        "try:\n",
        "    odwrotna_x = np.linalg.inv(x)\n",
        "except:\n",
        "    odwrotna_x = \"inverse not existent\"\n",
        "\n",
        "odwrotna_x"
      ],
      "metadata": {
        "colab": {
          "base_uri": "https://localhost:8080/"
        },
        "id": "hu4VDV_OuFhY",
        "outputId": "3ddb18bc-1abf-4e7b-a042-254bf8488a0a"
      },
      "execution_count": null,
      "outputs": [
        {
          "output_type": "execute_result",
          "data": {
            "text/plain": [
              "array([[ 0.47461371,  0.13269253, -0.24726695, -0.82965177,  0.28250384,\n",
              "        -0.17012825,  0.58274426,  0.83686705,  0.4146721 , -1.56942847],\n",
              "       [-0.38032531, -0.11226789,  0.23216372,  0.58853747, -0.2508954 ,\n",
              "         0.10174485, -0.40729564, -0.58325689, -0.2335154 ,  1.11832726],\n",
              "       [ 0.13559662,  0.58950334, -0.24709855, -0.58789838, -0.30170699,\n",
              "        -0.12721938,  0.23740295,  1.01003036, -0.02151387, -0.64590149],\n",
              "       [ 0.01425207,  0.14570726, -0.04557569, -0.12721972, -0.08945184,\n",
              "        -0.03756624,  0.03910376,  0.23606066, -0.01436771, -0.11345749],\n",
              "       [-0.09473246,  0.01725249,  0.19145597,  0.32960274, -0.28626296,\n",
              "         0.08348529, -0.37577603, -0.27295934, -0.25855803,  0.74691827],\n",
              "       [ 0.16387032,  0.10075684, -0.15404907, -0.29794662,  0.16916877,\n",
              "        -0.02827782,  0.20469921,  0.28036265,  0.15086178, -0.5882585 ],\n",
              "       [ 0.04288003,  0.02246462, -0.0366803 , -0.09024915,  0.04322146,\n",
              "        -0.01047861,  0.06167348,  0.07009721,  0.0367806 , -0.14185925],\n",
              "       [-0.26858433, -0.21167346,  0.25168367,  0.55607234, -0.16804333,\n",
              "         0.01066975, -0.22435849, -0.52957038, -0.15757224,  0.77302113],\n",
              "       [-0.15583541, -0.13041404,  0.0984558 ,  0.3150966 , -0.09916278,\n",
              "        -0.04426337, -0.20832614, -0.18404388, -0.04309498,  0.45794224],\n",
              "       [-0.05970783, -0.11342903,  0.09122544,  0.11908074, -0.00311646,\n",
              "         0.02370807, -0.07526552, -0.06924544, -0.10963836,  0.16553689]])"
            ]
          },
          "metadata": {},
          "execution_count": 11
        }
      ]
    },
    {
      "cell_type": "code",
      "source": [
        "# Zadanie 3\n",
        "import numpy as np\n",
        "import pandas as pd\n",
        "rainfall = pd.read_csv('/content/drive/MyDrive/PAD Zadania 2/Seattle2014.csv', sep=\";\")['PRCP'].values\n",
        "rainfall\n",
        "\n"
      ],
      "metadata": {
        "id": "wQGFdXBM8H07",
        "colab": {
          "base_uri": "https://localhost:8080/"
        },
        "outputId": "e594c60d-c2a7-4baa-aa1f-5a560adb30da"
      },
      "execution_count": 3,
      "outputs": [
        {
          "output_type": "execute_result",
          "data": {
            "text/plain": [
              "array([  0,  41,  15,   0,   0,   3, 122,  97,  58,  43, 213,  15,   0,\n",
              "         0,   0,   0,   0,   0,   0,   0,   0,   5,   0,   0,   0,   0,\n",
              "         0,  89, 216,   0,  23,  20,   0,   0,   0,   0,   0,   0,  51,\n",
              "         5, 183, 170,  46,  18,  94, 117, 264, 145, 152,  10,  30,  28,\n",
              "        25,  61, 130,   3,   0,   0,   0,   5, 191, 107, 165, 467,  30,\n",
              "         0, 323,  43, 188,   0,   0,   5,  69,  81, 277,   3,   0,   5,\n",
              "         0,   0,   0,   0,   0,  41,  36,   3, 221, 140,   0,   0,   0,\n",
              "         0,  25,   0,  46,   0,   0,  46,   0,   0,   0,   0,   0,   0,\n",
              "         5, 109, 185,   0, 137,   0,  51, 142,  89, 124,   0,  33,  69,\n",
              "         0,   0,   0,   0,   0, 333, 160,  51,   0,   0, 137,  20,   5,\n",
              "         0,   0,   0,   0,   0,   0,   0,   0,   0,   0,   0,   0,  38,\n",
              "         0,  56,   0,   0,   0,   0,   0,   0,   0,   0,   0,   0,   0,\n",
              "         0,   0,   0,   0,   0,   0,  18,  64,   0,   5,  36,  13,   0,\n",
              "         8,   3,   0,   0,   0,   0,   0,   0,  18,  23,   0,   0,   0,\n",
              "         0,   0,   0,   0,   0,   0,   0,   0,   0,   0,   0,   0,   0,\n",
              "         0,   0,   0,   0,   0,   0,   0,   3, 193,   0,   0,   0,   0,\n",
              "         0,   0,   0,   0,   0,   5,   0,   0,   0,   0,   0,   0,   0,\n",
              "         0,   5, 127, 216,   0,  10,   0,   0,   0,   0,   0,   0,   0,\n",
              "         0,   0,   0,   0,   0,   0,   0,  84,  13,   0,  30,   0,   0,\n",
              "         0,   0,   0,   0,   0,   0,   0,   0,   0,   0,   0,   0,   5,\n",
              "         3,   0,   0,   0,   3, 183, 203,  43,  89,   0,   0,   8,   0,\n",
              "         0,   0,   0,   0,   0,   0,   0,   0,   0,   3,  74,   0,  76,\n",
              "        71,  86,   0,  33, 150,   0, 117,  10, 320,  94,  41,  61,  15,\n",
              "         8, 127,   5, 254, 170,   0,  18, 109,  41,  48,  41,   0,   0,\n",
              "        51,   0,   0,   0,   0,   0,   0,   0,   0,   0,   0,  36, 152,\n",
              "         5, 119,  13, 183,   3,  33, 343,  36,   0,   0,   0,   0,   8,\n",
              "        30,  74,   0,  91,  99, 130,  69,   0,   0,   0,   0,   0,  28,\n",
              "       130,  30, 196,   0,   0, 206,  53,   0,   0,  33,  41,   0,   0,\n",
              "         0])"
            ]
          },
          "metadata": {},
          "execution_count": 3
        }
      ]
    },
    {
      "cell_type": "code",
      "source": [
        "inches = rainfall /254.0 # 1/10mm -> inches \n",
        "inches.shape"
      ],
      "metadata": {
        "colab": {
          "base_uri": "https://localhost:8080/"
        },
        "id": "4m4wwNcXBoaU",
        "outputId": "ac2e9bdc-1550-49ad-e956-87f3299755bb"
      },
      "execution_count": 4,
      "outputs": [
        {
          "output_type": "execute_result",
          "data": {
            "text/plain": [
              "(365,)"
            ]
          },
          "metadata": {},
          "execution_count": 4
        }
      ]
    },
    {
      "cell_type": "code",
      "source": [
        "import matplotlib.pyplot as plt\n",
        "import seaborn\n",
        "seaborn.set()\n",
        "plt.hist(inches,40)\n",
        "plt.xlabel(\"inches\")\n"
      ],
      "metadata": {
        "colab": {
          "base_uri": "https://localhost:8080/",
          "height": 302
        },
        "id": "albh3B9kAsTX",
        "outputId": "fb1cfcbb-40c4-41c7-a09e-ad3b97569493"
      },
      "execution_count": 5,
      "outputs": [
        {
          "output_type": "execute_result",
          "data": {
            "text/plain": [
              "Text(0.5, 0, 'inches')"
            ]
          },
          "metadata": {},
          "execution_count": 5
        },
        {
          "output_type": "display_data",
          "data": {
            "text/plain": [
              "<Figure size 432x288 with 1 Axes>"
            ],
            "image/png": "[encoded data removed]"
          },
          "metadata": {}
        }
      ]
    },
    {
      "cell_type": "code",
      "source": [
        "print('Number days without rain:',np.count_nonzero(inches==0))\n",
        "print('Number days with rain::',np.count_nonzero(inches>0))\n",
        "print('Days with more than 0.5 inches:',np.count_nonzero(inches>0.5))\n",
        "print('Rainy days with < 0.2 inches:',np.sum((inches>0) == (inches<0.2)))  "
      ],
      "metadata": {
        "id": "ds2C1im2Batp",
        "colab": {
          "base_uri": "https://localhost:8080/"
        },
        "outputId": "8a727627-2f1c-49fa-f582-ca644ca7465a"
      },
      "execution_count": null,
      "outputs": [
        {
          "output_type": "stream",
          "name": "stdout",
          "text": [
            "Number days without rain: 215\n",
            "Number days with rain:: 150\n",
            "Days with more than 0.5 inches: 37\n",
            "Rainy days with < 0.2 inches: 75\n"
          ]
        }
      ]
    },
    {
      "cell_type": "code",
      "source": [
        "from numpy.ma.core import masked_less_equal\n",
        "non_summer_days=inches[np.r_[:172,262:365]]\n",
        "k = masked_less_equal(inches, 0)\n",
        "np.ma.median(k)\n",
        "print(\"Median precip on rainy days in 2014 (inches):   \", np.ma.median(k))\n",
        "print(\"Median precip on summer days in 2014 (inches):\", np.median(inches[np.arange(172,263)])) \n",
        "print(\"Maximum precip on summer days in 2014 (inches):\", np.max(inches[np.arange(172,263)])) \n",
        "print(\"Median precip on non-summer rainy days (inches):\", np.median(non_summer_days[non_summer_days>0]))"
      ],
      "metadata": {
        "colab": {
          "base_uri": "https://localhost:8080/"
        },
        "id": "__Sn2msDVJap",
        "outputId": "32cdc430-8d25-4779-bbd0-014f12928e41"
      },
      "execution_count": 6,
      "outputs": [
        {
          "output_type": "stream",
          "name": "stdout",
          "text": [
            "Median precip on rainy days in 2014 (inches):    0.19488188976377951\n",
            "Median precip on summer days in 2014 (inches): 0.0\n",
            "Maximum precip on summer days in 2014 (inches): 0.8503937007874016\n",
            "Median precip on non-summer rainy days (inches): 0.20078740157480315\n"
          ]
        }
      ]
    },
    {
      "cell_type": "code",
      "source": [
        "#Zadanie 4\n",
        "A = [0,3,2,5] \n",
        "\n",
        "B = [0,3,1,4] "
      ],
      "metadata": {
        "id": "n0fQA0UKVoun"
      },
      "execution_count": null,
      "outputs": []
    },
    {
      "cell_type": "code",
      "source": [
        "#Dodaj A i B \n",
        "import numpy as np\n",
        " \n",
        "z=np.add(A,B) \n",
        "print(\"Suma wektorów A i B to\", z)  \n",
        "\n",
        "#Odejmij B od A \n",
        "o=np.subtract(A,B)\n",
        "print(\"Różnica wektorów B od A to\" ,o)  \n",
        "#Pomnóż wektor A przez skalar a=4 \n",
        "a=4\n",
        "q=np.multiply(A,a)\n",
        "print(\"Wynik mnożenia wektora: A i skalaru to\" ,q)  \n",
        "#Oblicz iloczyn skalarny wektorów A i B \n",
        "m=np.dot(A,B)\n",
        "print(\"Iloczyn skalarny wektorów A i B wynosi\",m)\n",
        "#Znajdź długość wektora B \n",
        "j=np.linalg.norm(B)\n",
        "print(\"Długość wektora B to\",j)\n"
      ],
      "metadata": {
        "colab": {
          "base_uri": "https://localhost:8080/"
        },
        "id": "UsWFYMzVpJyw",
        "outputId": "77f594ae-55f0-42c9-c3e9-ed4cce3a5b4a"
      },
      "execution_count": null,
      "outputs": [
        {
          "output_type": "stream",
          "name": "stdout",
          "text": [
            "Suma wektorów A i B to [0 6 3 9]\n",
            "Różnica wektorów B od A to [0 0 1 1]\n",
            "Wynik mnożenia wektora: A i skalaru to [ 0 12  8 20]\n",
            "Iloczyn skalarny wektorów A i B wynosi 31\n",
            "Długość wektora B to 5.0990195135927845\n"
          ]
        }
      ]
    }
  ]
}